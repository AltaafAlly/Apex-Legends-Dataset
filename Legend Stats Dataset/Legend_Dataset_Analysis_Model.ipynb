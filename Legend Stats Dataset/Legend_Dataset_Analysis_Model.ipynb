{
 "cells": [
  {
   "cell_type": "markdown",
   "id": "0114284a",
   "metadata": {},
   "source": [
    "# Model Role Prediction For Legend Stats"
   ]
  },
  {
   "cell_type": "code",
   "execution_count": null,
   "id": "b6c68520",
   "metadata": {},
   "outputs": [],
   "source": [
    "import pandas as pd\n",
    "import numpy as np\n",
    "import matplotlib.pyplot as plt\n",
    "import seaborn as sns\n",
    "import os\n",
    "from sklearn.ensemble import RandomForestClassifier\n",
    "from sklearn.model_selection import train_test_split\n",
    "from sklearn.metrics import classification_report\n"
   ]
  },
  {
   "cell_type": "markdown",
   "id": "27ea0090",
   "metadata": {},
   "source": [
    "## Define Legend Categories"
   ]
  },
  {
   "cell_type": "code",
   "execution_count": null,
   "id": "0aa63f2c",
   "metadata": {},
   "outputs": [],
   "source": [
    "# Define legend categories\n",
    "legend_categories = {\n",
    "    'Assault': ['Bangalore', 'Fuse', 'Ash', 'Mad Maggie', 'Ballistic'],\n",
    "    'Skirmisher': ['Pathfinder', 'Wraith', 'Octane', 'Revenant', 'Horizon', 'Valkyrie', 'Alter'],\n",
    "    'Recon': ['Bloodhound', 'Crypto', 'Seer', 'Vantage'],\n",
    "    'Support': ['Gibraltar', 'Lifeline', 'Mirage', 'Loba', 'Newcastle', 'Conduit'],\n",
    "    'Controller': ['Caustic', 'Wattson', 'Rampart', 'Catalyst']\n",
    "}\n",
    "legend_to_category = {legend: role for role, legends in legend_categories.items() for legend in legends}\n",
    "legends = list(legend_to_category.keys())"
   ]
  },
  {
   "cell_type": "code",
   "execution_count": null,
   "id": "1316d1a1",
   "metadata": {},
   "outputs": [],
   "source": [
    "\n",
    "\n",
    "base_path = r\"\"\n",
    "damage_path = os.path.join(base_path, 'Legend Damage')\n",
    "kills_path = os.path.join(base_path, 'Legend Kills')\n",
    "\n",
    "all_data = []\n",
    "for legend in legends:\n",
    "    try:\n",
    "        legend_file = legend\n",
    "        kills_file = os.path.join(kills_path, f\"{legend_file}_kills.csv\")\n",
    "        damage_file = os.path.join(damage_path, f\"{legend_file}_damage.csv\")\n",
    "        # Read kills and damage WITH HEADER\n",
    "        kills = pd.read_csv(kills_file)\n",
    "        damage = pd.read_csv(damage_file)\n",
    "        # Use last column if unsure of name\n",
    "        kills_col = kills.columns[-1]\n",
    "        damage_col = damage.columns[-1]\n",
    "        # Clean up values (remove commas, convert to int)\n",
    "        kills[kills_col] = kills[kills_col].astype(str).str.replace(',', '').astype(int)\n",
    "        damage[damage_col] = damage[damage_col].astype(str).str.replace(',', '').astype(int)\n",
    "        n = min(len(kills), len(damage))\n",
    "        df = pd.DataFrame({\n",
    "            'Kills': kills[kills_col].values[:n],\n",
    "            'Damage': damage[damage_col].values[:n],\n",
    "            'legend': legend,\n",
    "            'role': legend_to_category[legend]\n",
    "        })\n",
    "        all_data.append(df)\n",
    "        #print(f\"Loaded: {legend} ({n} samples)\")\n",
    "    except Exception as e:\n",
    "        print(f\"Skipping {legend} due to missing file: {e}\")\n",
    "\n",
    "df_all = pd.concat(all_data, ignore_index=True)\n",
    "# Model\n",
    "features = ['Kills', 'Damage']\n",
    "X = df_all[features]\n",
    "y = df_all['role']\n",
    "\n",
    "# No Stratified split, just a random split\n",
    "#X_train, X_test, y_train, y_test = train_test_split(X, y, test_size=0.4, random_state=42)\n",
    "\n",
    "# Stratified split to maintain class distribution\n",
    "X_train, X_test, y_train, y_test = train_test_split(X, y, test_size=0.4, random_state=42, stratify=y)\n",
    "clf = RandomForestClassifier(random_state=42)\n",
    "clf.fit(X_train, y_train)\n",
    "y_pred = clf.predict(X_test)\n",
    "print(classification_report(y_test, y_pred))"
   ]
  }
 ],
 "metadata": {
  "kernelspec": {
   "display_name": "Python 3",
   "language": "python",
   "name": "python3"
  },
  "language_info": {
   "codemirror_mode": {
    "name": "ipython",
    "version": 3
   },
   "file_extension": ".py",
   "mimetype": "text/x-python",
   "name": "python",
   "nbconvert_exporter": "python",
   "pygments_lexer": "ipython3",
   "version": "3.11.9"
  }
 },
 "nbformat": 4,
 "nbformat_minor": 5
}
