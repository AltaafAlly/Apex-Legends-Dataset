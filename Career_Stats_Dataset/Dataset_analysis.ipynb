{
 "cells": [
  {
   "cell_type": "markdown",
   "metadata": {},
   "source": [
    "# Dataset Analysis: Player Career Statistics\n",
    "\n",
    "This notebook explores and analyzes the **Total Career Stats** dataset, containing gaming statistics for players including total kills, wins, and revives. The dataset provides valuable insights into player performance.\n"
   ]
  },
  {
   "cell_type": "markdown",
   "metadata": {},
   "source": [
    "##  2. Data Import and Initial Inspection"
   ]
  },
  {
   "cell_type": "code",
   "execution_count": null,
   "metadata": {},
   "outputs": [],
   "source": [
    "# Import necessary libraries\n",
    "import pandas as pd\n",
    "import numpy as np\n",
    "import matplotlib.pyplot as plt\n",
    "import seaborn as sns\n",
    "\n",
    "# Load dataset\n",
    "data = pd.read_csv('Total Career Stats.csv')\n",
    "\n",
    "# Initial inspection\n",
    "print(data.head())\n",
    "print(data.info())\n",
    "print(data.describe())\n"
   ]
  },
  {
   "cell_type": "markdown",
   "metadata": {},
   "source": [
    "## 3. Data Cleaning and Preparation"
   ]
  },
  {
   "cell_type": "code",
   "execution_count": null,
   "metadata": {},
   "outputs": [],
   "source": [
    "# Check for missing values\n",
    "print(\"Missing values:\\n\", data.isnull().sum())\n",
    "\n",
    "# Handle missing values (dropping rows with missing player names)\n",
    "data_clean = data.dropna(subset=['player_name'])\n",
    "\n",
    "# Confirm no missing values\n",
    "print(\"\\nAfter cleaning:\\n\", data_clean.isnull().sum())\n",
    "\n",
    "# Check and display duplicates\n",
    "duplicates = data_clean[data_clean.duplicated(keep=False)]\n",
    "\n",
    "print(f\"\\nNumber of duplicate rows found: {duplicates.shape[0]}\")\n",
    "\n",
    "# Display duplicate rows clearly\n",
    "if duplicates.shape[0] > 0:\n",
    "    print(\"\\nDuplicate rows:\")\n",
    "    display(duplicates.sort_values(by='player_name'))\n",
    "else:\n",
    "    print(\"\\nNo duplicate rows found.\")\n",
    "\n"
   ]
  },
  {
   "cell_type": "markdown",
   "metadata": {},
   "source": [
    "### Code to Remove Duplicate Player Names:"
   ]
  },
  {
   "cell_type": "code",
   "execution_count": null,
   "metadata": {},
   "outputs": [],
   "source": [
    "# Check initial number of rows\n",
    "print(\"Initial number of rows:\", data_clean.shape[0])\n",
    "\n",
    "# Remove duplicates based on player_name (keep first occurrence)\n",
    "data_clean = data_clean.drop_duplicates(subset=['player_name'], keep='first')\n",
    "\n",
    "# Confirm duplicates are removed\n",
    "print(\"Number of rows after removing duplicates:\", data_clean.shape[0])\n",
    "\n",
    "# Verify no duplicates remain\n",
    "duplicates_remaining = data_clean['player_name'].duplicated().sum()\n",
    "print(\"Duplicates remaining:\", duplicates_remaining)\n"
   ]
  },
  {
   "cell_type": "markdown",
   "metadata": {},
   "source": [
    "## 4. Exploratory Data Analysis"
   ]
  },
  {
   "cell_type": "markdown",
   "metadata": {},
   "source": [
    "### Descriptive Statistics"
   ]
  },
  {
   "cell_type": "code",
   "execution_count": null,
   "metadata": {},
   "outputs": [],
   "source": [
    "# Summary statistics\n",
    "print(data_clean.describe())\n"
   ]
  },
  {
   "cell_type": "markdown",
   "metadata": {},
   "source": [
    "###  Distribution Visualizations"
   ]
  },
  {
   "cell_type": "code",
   "execution_count": null,
   "metadata": {},
   "outputs": [],
   "source": [
    "# Histograms\n",
    "plt.figure(figsize=(14, 4))\n",
    "\n",
    "plt.subplot(1, 3, 1)\n",
    "sns.histplot(data_clean['career_kills'], bins=30, kde=True)\n",
    "plt.title('Distribution of Career Kills')\n",
    "\n",
    "plt.subplot(1, 3, 2)\n",
    "sns.histplot(data_clean['career_wins'], bins=30, kde=True)\n",
    "plt.title('Distribution of Career Wins')\n",
    "\n",
    "plt.subplot(1, 3, 3)\n",
    "sns.histplot(data_clean['career_revives'], bins=30, kde=True)\n",
    "plt.title('Distribution of Career Revives')\n",
    "\n",
    "plt.tight_layout()\n",
    "plt.show()\n"
   ]
  },
  {
   "cell_type": "markdown",
   "metadata": {},
   "source": [
    "### Boxplots for Outliers"
   ]
  },
  {
   "cell_type": "code",
   "execution_count": null,
   "metadata": {},
   "outputs": [],
   "source": [
    "# Boxplots\n",
    "plt.figure(figsize=(14, 4))\n",
    "\n",
    "plt.subplot(1, 3, 1)\n",
    "sns.boxplot(x=data_clean['career_kills'])\n",
    "plt.title('Boxplot of Career Kills')\n",
    "\n",
    "plt.subplot(1, 3, 2)\n",
    "sns.boxplot(x=data_clean['career_wins'])\n",
    "plt.title('Boxplot of Career Wins')\n",
    "\n",
    "plt.subplot(1, 3, 3)\n",
    "sns.boxplot(x=data_clean['career_revives'])\n",
    "plt.title('Boxplot of Career Revives')\n",
    "\n",
    "plt.tight_layout()\n",
    "plt.show()\n"
   ]
  },
  {
   "cell_type": "markdown",
   "metadata": {},
   "source": [
    "### Correlation Analysis"
   ]
  },
  {
   "cell_type": "code",
   "execution_count": null,
   "metadata": {},
   "outputs": [],
   "source": [
    "# Correlation heatmap\n",
    "plt.figure(figsize=(8, 6))\n",
    "sns.heatmap(data_clean[['career_kills', 'career_wins', 'career_revives']].corr(), annot=True, cmap='coolwarm')\n",
    "plt.title('Correlation between Career Statistics')\n",
    "plt.show()\n"
   ]
  },
  {
   "cell_type": "markdown",
   "metadata": {},
   "source": [
    "##  5. Analysis and Insights"
   ]
  },
  {
   "cell_type": "markdown",
   "metadata": {},
   "source": [
    "###  Top Players Analysis (Leaderboard)"
   ]
  },
  {
   "cell_type": "code",
   "execution_count": null,
   "metadata": {},
   "outputs": [],
   "source": [
    "# Function to display top players anonymously\n",
    "def show_top_players(df, column, top_n=10):\n",
    "    top_players = df.sort_values(by=column, ascending=False).head(top_n).copy()\n",
    "    top_players.reset_index(drop=True, inplace=True)\n",
    "    top_players.index += 1  # Start ranking from 1\n",
    "    top_players['Player_ID'] = ['Player_' + str(i) for i in top_players.index]\n",
    "    return top_players[['Player_ID', column]]\n",
    "\n",
    "# Display top players anonymously\n",
    "print(\"🏆 Top 10 Players by Kills:\\n\", show_top_players(data_clean, 'career_kills'))\n",
    "\n",
    "print(\"\\n🏆 Top 10 Players by Wins:\\n\", show_top_players(data_clean, 'career_wins'))\n",
    "\n",
    "print(\"\\n🏆 Top 10 Players by Revives:\\n\", show_top_players(data_clean, 'career_revives'))\n",
    "\n"
   ]
  },
  {
   "cell_type": "markdown",
   "metadata": {},
   "source": [
    "### Scatter Plots for Relationships"
   ]
  },
  {
   "cell_type": "code",
   "execution_count": null,
   "metadata": {},
   "outputs": [],
   "source": [
    "# Scatter plot: Kills vs Wins\n",
    "sns.scatterplot(x='career_kills', y='career_wins', data=data_clean)\n",
    "plt.title('Career Kills vs Wins')\n",
    "plt.xlabel('Career Kills')\n",
    "plt.ylabel('Career Wins')\n",
    "plt.show()\n",
    "\n",
    "# Scatter plot: Kills vs Revives\n",
    "sns.scatterplot(x='career_kills', y='career_revives', data=data_clean)\n",
    "plt.title('Career Kills vs Revives')\n",
    "plt.xlabel('Career Kills')\n",
    "plt.ylabel('Career Revives')\n",
    "plt.show()\n"
   ]
  }
 ],
 "metadata": {
  "kernelspec": {
   "display_name": "Python 3",
   "language": "python",
   "name": "python3"
  },
  "language_info": {
   "codemirror_mode": {
    "name": "ipython",
    "version": 3
   },
   "file_extension": ".py",
   "mimetype": "text/x-python",
   "name": "python",
   "nbconvert_exporter": "python",
   "pygments_lexer": "ipython3",
   "version": "3.10.2"
  }
 },
 "nbformat": 4,
 "nbformat_minor": 2
}
